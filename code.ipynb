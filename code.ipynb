{
 "cells": [
  {
   "cell_type": "code",
   "execution_count": 463,
   "metadata": {},
   "outputs": [],
   "source": [
    "import calendar\n",
    "import pandas as pd \n",
    "import numpy as np \n",
    "import matplotlib\n",
    "import matplotlib.pyplot as plt\n",
    "import seaborn as sns"
   ]
  },
  {
   "cell_type": "code",
   "execution_count": 464,
   "metadata": {},
   "outputs": [],
   "source": [
    "inven_path='Data\\\\Inventory Dataset.xlsx'\n",
    "new_inv_path='Data\\\\New Inventory.xlsx'\n",
    "sold_inv_path='Data\\Sales Dataset.xlsx'"
   ]
  },
  {
   "cell_type": "code",
   "execution_count": 465,
   "metadata": {},
   "outputs": [],
   "source": [
    "df_inventory=pd.read_excel(inven_path)\n",
    "df_new_arrivals=pd.read_excel(new_inv_path)\n",
    "df_sold=pd.read_excel(sold_inv_path)"
   ]
  },
  {
   "cell_type": "code",
   "execution_count": 466,
   "metadata": {},
   "outputs": [],
   "source": [
    "df_sold['Sales U']=df_sold['Sales U']*-1"
   ]
  },
  {
   "cell_type": "code",
   "execution_count": 467,
   "metadata": {},
   "outputs": [
    {
     "data": {
      "text/plain": [
       "0        -2\n",
       "1        -1\n",
       "2        -1\n",
       "3        -8\n",
       "4        -1\n",
       "       ... \n",
       "9449    -28\n",
       "9450   -389\n",
       "9451   -182\n",
       "9452    -16\n",
       "9453   -391\n",
       "Name: Sales U, Length: 9454, dtype: int64"
      ]
     },
     "execution_count": 467,
     "metadata": {},
     "output_type": "execute_result"
    }
   ],
   "source": [
    "df_sold['Sales U']"
   ]
  },
  {
   "cell_type": "markdown",
   "metadata": {},
   "source": [
    "## Inventory Dataset.xlsx"
   ]
  },
  {
   "cell_type": "code",
   "execution_count": 468,
   "metadata": {},
   "outputs": [
    {
     "name": "stdout",
     "output_type": "stream",
     "text": [
      "The Inventory dataset contains 356 rows and 3 columns.\n"
     ]
    }
   ],
   "source": [
    "print(\"The Inventory dataset contains {} rows and {} columns.\".format(df_inventory.shape[0],df_inventory.shape[1]))\n"
   ]
  },
  {
   "cell_type": "code",
   "execution_count": 469,
   "metadata": {},
   "outputs": [
    {
     "data": {
      "text/plain": [
       "356"
      ]
     },
     "execution_count": 469,
     "metadata": {},
     "output_type": "execute_result"
    }
   ],
   "source": [
    "len(df_inventory['Item Number'].unique())"
   ]
  },
  {
   "cell_type": "markdown",
   "metadata": {},
   "source": [
    "## New Inventory.xlsx"
   ]
  },
  {
   "cell_type": "code",
   "execution_count": 470,
   "metadata": {},
   "outputs": [
    {
     "name": "stdout",
     "output_type": "stream",
     "text": [
      "The New inventory dataset contains 1039 rows and 3 columns.\n"
     ]
    }
   ],
   "source": [
    "print(\"The New inventory dataset contains {} rows and {} columns.\".format(df_new_arrivals.shape[0],df_new_arrivals.shape[1]))"
   ]
  },
  {
   "cell_type": "code",
   "execution_count": 471,
   "metadata": {},
   "outputs": [
    {
     "data": {
      "text/plain": [
       "213"
      ]
     },
     "execution_count": 471,
     "metadata": {},
     "output_type": "execute_result"
    }
   ],
   "source": [
    "len(df_new_arrivals['Item Number'].unique())"
   ]
  },
  {
   "cell_type": "code",
   "execution_count": 472,
   "metadata": {},
   "outputs": [
    {
     "data": {
      "text/plain": [
       "23"
      ]
     },
     "execution_count": 472,
     "metadata": {},
     "output_type": "execute_result"
    }
   ],
   "source": [
    "len(df_new_arrivals['Inventory Receive'].unique())"
   ]
  },
  {
   "cell_type": "markdown",
   "metadata": {},
   "source": [
    "The inventory data set contains 356 unique item numbers and the number of items in that inventory. The new inventory dataset contains 1,039 rows of numbers <br> \n",
    "showing how many new items were added to inventory and when they arrived. The new inventory dataset contains 213 unique items, which means that out of 356 items,<br>\n",
    "only 213 items were received on 23 different unique dates."
   ]
  },
  {
   "cell_type": "code",
   "execution_count": 473,
   "metadata": {},
   "outputs": [],
   "source": [
    "\n",
    "df_new_arrivals['Inventory Receive']= pd.to_datetime(df_new_arrivals['Inventory Receive'])\n",
    "df_inventory['Date']=pd.to_datetime(df_inventory['Date'])\n",
    "#df_inventory=df_inventory.sort_values(by=['Inventory Receive'],)"
   ]
  },
  {
   "cell_type": "markdown",
   "metadata": {},
   "source": [
    "## Merging both files"
   ]
  },
  {
   "cell_type": "code",
   "execution_count": 474,
   "metadata": {},
   "outputs": [],
   "source": [
    "df_merged = pd.merge(df_inventory, df_new_arrivals, on='Item Number', how='outer')\n",
    "df_merged=df_merged.sort_values(by=['Inventory Receive'],ascending=True,key=lambda x: x.astype(np.int64))\n"
   ]
  },
  {
   "cell_type": "code",
   "execution_count": 475,
   "metadata": {},
   "outputs": [],
   "source": [
    "#df_conct_merged=pd.merge(df_inventory, concat_df, on='Item Number', how='outer')"
   ]
  },
  {
   "cell_type": "code",
   "execution_count": 476,
   "metadata": {},
   "outputs": [],
   "source": [
    "pivot_table = df_merged.pivot_table(values='Total Item Qty', \n",
    "                             index='Item Number', \n",
    "                             columns='Inventory Receive', \n",
    "                             aggfunc='sum', \n",
    "                             fill_value=0)\n"
   ]
  },
  {
   "cell_type": "code",
   "execution_count": 477,
   "metadata": {},
   "outputs": [
    {
     "data": {
      "text/plain": [
       "Index(['Item Number', 'Date', 'Sales U'], dtype='object')"
      ]
     },
     "execution_count": 477,
     "metadata": {},
     "output_type": "execute_result"
    }
   ],
   "source": [
    "df_sold.columns"
   ]
  },
  {
   "cell_type": "code",
   "execution_count": 478,
   "metadata": {},
   "outputs": [
    {
     "name": "stderr",
     "output_type": "stream",
     "text": [
      "C:\\Users\\prabh\\AppData\\Local\\Temp\\ipykernel_12728\\4281683759.py:4: FutureWarning: Calling int on a single element Series is deprecated and will raise a TypeError in the future. Use int(ser.iloc[0]) instead\n",
      "  on_stock=int(on_stock)\n"
     ]
    }
   ],
   "source": [
    "\n",
    "for item_num,row in pivot_table.iterrows():\n",
    "    try:\n",
    "        on_stock = df_inventory[df_inventory['Item Number'] == item_num]['Inventory']\n",
    "        on_stock=int(on_stock)\n",
    "    except:\n",
    "        on_stock=0\n",
    "\n",
    "    for k in pivot_table.columns:\n",
    "        on_stock=on_stock+row[k]\n",
    "        row[k]=on_stock\n",
    "        \n",
    "    "
   ]
  },
  {
   "cell_type": "markdown",
   "metadata": {},
   "source": [
    "## Visualization"
   ]
  },
  {
   "cell_type": "code",
   "execution_count": 479,
   "metadata": {},
   "outputs": [
    {
     "data": {
      "text/plain": [
       "Index(['Item Number', 'Date', 'Inventory', 'Inventory Receive',\n",
       "       'Total Item Qty'],\n",
       "      dtype='object')"
      ]
     },
     "execution_count": 479,
     "metadata": {},
     "output_type": "execute_result"
    }
   ],
   "source": [
    "df_merged.columns"
   ]
  },
  {
   "cell_type": "code",
   "execution_count": 480,
   "metadata": {},
   "outputs": [],
   "source": [
    "df_merged[\"Month\"]=df_merged['Inventory Receive'].dt.month"
   ]
  },
  {
   "cell_type": "code",
   "execution_count": 481,
   "metadata": {},
   "outputs": [],
   "source": [
    "month_total=df_merged.groupby('Month')['Total Item Qty'].sum()\n",
    "#month_total=Inventory_Receive_sum=df_merged.groupby('Month')['Total Item Qty'].sum()"
   ]
  },
  {
   "cell_type": "code",
   "execution_count": 482,
   "metadata": {},
   "outputs": [],
   "source": [
    "Inventory_sum=df_inventory['Inventory'].sum()\n",
    "month_total[6]=Inventory_sum\n",
    "month_total=month_total.sort_index(ascending=True)\n",
    "month_total=pd.DataFrame(month_total)"
   ]
  },
  {
   "cell_type": "code",
   "execution_count": 483,
   "metadata": {},
   "outputs": [],
   "source": [
    "item_recived=month_total"
   ]
  },
  {
   "cell_type": "code",
   "execution_count": 484,
   "metadata": {},
   "outputs": [],
   "source": [
    "month_names = [calendar.month_name[i] for i in range(6, 13)]"
   ]
  },
  {
   "cell_type": "code",
   "execution_count": 485,
   "metadata": {},
   "outputs": [],
   "source": [
    "\n",
    "for x in range(7, 6 + len(month_total['Total Item Qty'])):\n",
    "    month_total.loc[x, 'Total Item Qty'] = month_total.loc[x - 1, 'Total Item Qty'] + month_total.loc[x, 'Total Item Qty']\n"
   ]
  },
  {
   "cell_type": "code",
   "execution_count": 486,
   "metadata": {},
   "outputs": [
    {
     "data": {
      "image/png": "[encoded data removed]",
      "text/plain": [
       "<Figure size 800x500 with 1 Axes>"
      ]
     },
     "metadata": {},
     "output_type": "display_data"
    }
   ],
   "source": [
    "plt.figure(figsize=(8, 5))\n",
    "sns.barplot(x=month_names, y=month_total['Total Item Qty'])\n",
    "\n",
    "plt.xlabel('Month')\n",
    "plt.ylabel('Total Item Qty')\n",
    "plt.title('Total Item Qty in Inventory for Each Month')\n",
    "plt.savefig('plots\\\\total_item_qty_plot.png')\n",
    "plt.show()"
   ]
  },
  {
   "cell_type": "code",
   "execution_count": 487,
   "metadata": {},
   "outputs": [
    {
     "data": {
      "text/plain": [
       "[698592.0, 726094.0, 670252.0, 303826.0, 24848.0, 63172.0]"
      ]
     },
     "execution_count": 487,
     "metadata": {},
     "output_type": "execute_result"
    }
   ],
   "source": [
    "recived=df_merged.groupby('Month')['Total Item Qty'].sum().values\n",
    "recived=list(recived)\n",
    "recived"
   ]
  },
  {
   "cell_type": "code",
   "execution_count": 488,
   "metadata": {},
   "outputs": [
    {
     "data": {
      "image/png": "[encoded data removed]",
      "text/plain": [
       "<Figure size 1400x500 with 2 Axes>"
      ]
     },
     "metadata": {},
     "output_type": "display_data"
    }
   ],
   "source": [
    "fig, axs = plt.subplots(nrows=1, ncols=2, figsize=(14, 5))\n",
    "\n",
    "# Line plot\n",
    "axs[0].plot(month_names[:-1], recived, marker='o', color='blue', label='Received')\n",
    "axs[0].set_title('Total Item Qty Received to Inventory in Each Month')\n",
    "axs[0].set_xlabel('Month')\n",
    "axs[0].set_ylabel('Total Item Received (in Lakhs)')\n",
    "axs[0].grid(True)\n",
    "axs[0].legend()\n",
    "\n",
    "# Bar plot\n",
    "axs[1].bar(month_names, month_total['Total Item Qty'], color='#346888', label='Inventory')\n",
    "axs[1].set_title('Total Item Qty in Inventory for Each Month')\n",
    "axs[1].set_xlabel('Month')\n",
    "axs[1].set_ylabel('Total Item Qty (in Lakhs)')\n",
    "#axs[1].grid(True)\n",
    "axs[1].legend()\n",
    "\n",
    "\n",
    "plt.tight_layout()\n",
    "\n",
    "\n",
    "plt.savefig('plots\\\\multiple_charts.png')\n",
    "\n",
    "# Show the plots\n",
    "plt.show()"
   ]
  },
  {
   "cell_type": "markdown",
   "metadata": {},
   "source": [
    "Their interpretation provides valuable insight into inventory trends throughout the year. The observation that inventory additions are high in October-November and that inventory levels are at their lowest in June indicates that there may be a seasonality or pattern in inventory management. Additionally, given that on-hand inventory peaks at the end of the year, with around 3,000 stocks in circulation, this highlights the importance of year-end inventory management and its impact on overall levels. of stocks. , "
   ]
  },
  {
   "cell_type": "markdown",
   "metadata": {},
   "source": [
    "# Sales dataset"
   ]
  },
  {
   "cell_type": "code",
   "execution_count": 489,
   "metadata": {},
   "outputs": [],
   "source": [
    "modified_sold_df={'Item Number':df_sold['Item Number'], 'Inventory Receive':df_sold['Date'], 'Total Item Qty':df_sold['Sales U']}\n",
    "modified_sold_df=pd.DataFrame(modified_sold_df)"
   ]
  },
  {
   "cell_type": "code",
   "execution_count": 490,
   "metadata": {},
   "outputs": [],
   "source": [
    "concat_df=pd.concat([modified_sold_df, df_new_arrivals], axis=0)"
   ]
  },
  {
   "cell_type": "code",
   "execution_count": 491,
   "metadata": {},
   "outputs": [],
   "source": [
    "concat_df['Inventory Receive'] = pd.to_datetime(concat_df['Inventory Receive'])\n",
    "concat_df['Inventory Receive'] = pd.to_datetime(concat_df['Inventory Receive'], format='%d/%m/%Y')\n"
   ]
  },
  {
   "cell_type": "code",
   "execution_count": 492,
   "metadata": {},
   "outputs": [],
   "source": [
    "\n",
    "# Now you can extract the month\n",
    "concat_df['Month'] = concat_df['Inventory Receive'].dt.month"
   ]
  },
  {
   "cell_type": "code",
   "execution_count": 493,
   "metadata": {},
   "outputs": [],
   "source": [
    "concat_df = concat_df.sort_values(by='Inventory Receive', ascending=True)"
   ]
  },
  {
   "cell_type": "code",
   "execution_count": 494,
   "metadata": {},
   "outputs": [
    {
     "data": {
      "text/html": [
       "<div>\n",
       "<style scoped>\n",
       "    .dataframe tbody tr th:only-of-type {\n",
       "        vertical-align: middle;\n",
       "    }\n",
       "\n",
       "    .dataframe tbody tr th {\n",
       "        vertical-align: top;\n",
       "    }\n",
       "\n",
       "    .dataframe thead th {\n",
       "        text-align: right;\n",
       "    }\n",
       "</style>\n",
       "<table border=\"1\" class=\"dataframe\">\n",
       "  <thead>\n",
       "    <tr style=\"text-align: right;\">\n",
       "      <th></th>\n",
       "      <th>Item Number</th>\n",
       "      <th>Inventory Receive</th>\n",
       "      <th>Total Item Qty</th>\n",
       "      <th>Month</th>\n",
       "    </tr>\n",
       "  </thead>\n",
       "  <tbody>\n",
       "    <tr>\n",
       "      <th>5164</th>\n",
       "      <td>064-11-5125</td>\n",
       "      <td>2023-06-03</td>\n",
       "      <td>-952</td>\n",
       "      <td>6</td>\n",
       "    </tr>\n",
       "    <tr>\n",
       "      <th>7952</th>\n",
       "      <td>064-18-6538</td>\n",
       "      <td>2023-06-03</td>\n",
       "      <td>-25</td>\n",
       "      <td>6</td>\n",
       "    </tr>\n",
       "    <tr>\n",
       "      <th>5888</th>\n",
       "      <td>064-13-0010</td>\n",
       "      <td>2023-06-03</td>\n",
       "      <td>-59</td>\n",
       "      <td>6</td>\n",
       "    </tr>\n",
       "    <tr>\n",
       "      <th>5889</th>\n",
       "      <td>064-13-0010</td>\n",
       "      <td>2023-06-03</td>\n",
       "      <td>-1006</td>\n",
       "      <td>6</td>\n",
       "    </tr>\n",
       "    <tr>\n",
       "      <th>7953</th>\n",
       "      <td>064-18-6538</td>\n",
       "      <td>2023-06-03</td>\n",
       "      <td>-413</td>\n",
       "      <td>6</td>\n",
       "    </tr>\n",
       "    <tr>\n",
       "      <th>...</th>\n",
       "      <td>...</td>\n",
       "      <td>...</td>\n",
       "      <td>...</td>\n",
       "      <td>...</td>\n",
       "    </tr>\n",
       "    <tr>\n",
       "      <th>456</th>\n",
       "      <td>064-18-0170</td>\n",
       "      <td>2023-12-01</td>\n",
       "      <td>18360</td>\n",
       "      <td>12</td>\n",
       "    </tr>\n",
       "    <tr>\n",
       "      <th>779</th>\n",
       "      <td>064-18-4752</td>\n",
       "      <td>2023-12-08</td>\n",
       "      <td>8076</td>\n",
       "      <td>12</td>\n",
       "    </tr>\n",
       "    <tr>\n",
       "      <th>778</th>\n",
       "      <td>064-18-0309</td>\n",
       "      <td>2023-12-08</td>\n",
       "      <td>8076</td>\n",
       "      <td>12</td>\n",
       "    </tr>\n",
       "    <tr>\n",
       "      <th>775</th>\n",
       "      <td>064-18-0170</td>\n",
       "      <td>2023-12-15</td>\n",
       "      <td>4860</td>\n",
       "      <td>12</td>\n",
       "    </tr>\n",
       "    <tr>\n",
       "      <th>776</th>\n",
       "      <td>064-18-9904</td>\n",
       "      <td>2023-12-15</td>\n",
       "      <td>5100</td>\n",
       "      <td>12</td>\n",
       "    </tr>\n",
       "  </tbody>\n",
       "</table>\n",
       "<p>10493 rows × 4 columns</p>\n",
       "</div>"
      ],
      "text/plain": [
       "      Item Number Inventory Receive  Total Item Qty  Month\n",
       "5164  064-11-5125        2023-06-03            -952      6\n",
       "7952  064-18-6538        2023-06-03             -25      6\n",
       "5888  064-13-0010        2023-06-03             -59      6\n",
       "5889  064-13-0010        2023-06-03           -1006      6\n",
       "7953  064-18-6538        2023-06-03            -413      6\n",
       "...           ...               ...             ...    ...\n",
       "456   064-18-0170        2023-12-01           18360     12\n",
       "779   064-18-4752        2023-12-08            8076     12\n",
       "778   064-18-0309        2023-12-08            8076     12\n",
       "775   064-18-0170        2023-12-15            4860     12\n",
       "776   064-18-9904        2023-12-15            5100     12\n",
       "\n",
       "[10493 rows x 4 columns]"
      ]
     },
     "execution_count": 494,
     "metadata": {},
     "output_type": "execute_result"
    }
   ],
   "source": [
    "concat_df"
   ]
  },
  {
   "cell_type": "code",
   "execution_count": 495,
   "metadata": {},
   "outputs": [],
   "source": [
    "sales_pivot = concat_df.pivot_table(values='Total Item Qty', \n",
    "                             index='Item Number', \n",
    "                             columns='Inventory Receive', \n",
    "                             aggfunc='sum', \n",
    "                             fill_value=0)\n"
   ]
  },
  {
   "cell_type": "code",
   "execution_count": 496,
   "metadata": {},
   "outputs": [
    {
     "data": {
      "text/html": [
       "<div>\n",
       "<style scoped>\n",
       "    .dataframe tbody tr th:only-of-type {\n",
       "        vertical-align: middle;\n",
       "    }\n",
       "\n",
       "    .dataframe tbody tr th {\n",
       "        vertical-align: top;\n",
       "    }\n",
       "\n",
       "    .dataframe thead th {\n",
       "        text-align: right;\n",
       "    }\n",
       "</style>\n",
       "<table border=\"1\" class=\"dataframe\">\n",
       "  <thead>\n",
       "    <tr style=\"text-align: right;\">\n",
       "      <th>Inventory Receive</th>\n",
       "      <th>2023-06-03</th>\n",
       "      <th>2023-06-10</th>\n",
       "      <th>2023-06-17</th>\n",
       "      <th>2023-06-24</th>\n",
       "      <th>2023-07-01</th>\n",
       "      <th>2023-07-07</th>\n",
       "      <th>2023-07-08</th>\n",
       "      <th>2023-07-09</th>\n",
       "      <th>2023-07-10</th>\n",
       "      <th>2023-07-14</th>\n",
       "      <th>...</th>\n",
       "      <th>2023-10-21</th>\n",
       "      <th>2023-10-22</th>\n",
       "      <th>2023-10-28</th>\n",
       "      <th>2023-11-04</th>\n",
       "      <th>2023-11-11</th>\n",
       "      <th>2023-11-18</th>\n",
       "      <th>2023-11-26</th>\n",
       "      <th>2023-12-01</th>\n",
       "      <th>2023-12-08</th>\n",
       "      <th>2023-12-15</th>\n",
       "    </tr>\n",
       "    <tr>\n",
       "      <th>Item Number</th>\n",
       "      <th></th>\n",
       "      <th></th>\n",
       "      <th></th>\n",
       "      <th></th>\n",
       "      <th></th>\n",
       "      <th></th>\n",
       "      <th></th>\n",
       "      <th></th>\n",
       "      <th></th>\n",
       "      <th></th>\n",
       "      <th></th>\n",
       "      <th></th>\n",
       "      <th></th>\n",
       "      <th></th>\n",
       "      <th></th>\n",
       "      <th></th>\n",
       "      <th></th>\n",
       "      <th></th>\n",
       "      <th></th>\n",
       "      <th></th>\n",
       "      <th></th>\n",
       "    </tr>\n",
       "  </thead>\n",
       "  <tbody>\n",
       "    <tr>\n",
       "      <th>064-01-0003</th>\n",
       "      <td>0</td>\n",
       "      <td>0</td>\n",
       "      <td>0</td>\n",
       "      <td>0</td>\n",
       "      <td>0</td>\n",
       "      <td>0</td>\n",
       "      <td>0</td>\n",
       "      <td>0</td>\n",
       "      <td>0</td>\n",
       "      <td>0</td>\n",
       "      <td>...</td>\n",
       "      <td>-317</td>\n",
       "      <td>0</td>\n",
       "      <td>-351</td>\n",
       "      <td>-411</td>\n",
       "      <td>-585</td>\n",
       "      <td>-473</td>\n",
       "      <td>0</td>\n",
       "      <td>0</td>\n",
       "      <td>0</td>\n",
       "      <td>0</td>\n",
       "    </tr>\n",
       "    <tr>\n",
       "      <th>064-01-0005</th>\n",
       "      <td>0</td>\n",
       "      <td>0</td>\n",
       "      <td>-1</td>\n",
       "      <td>0</td>\n",
       "      <td>0</td>\n",
       "      <td>0</td>\n",
       "      <td>0</td>\n",
       "      <td>0</td>\n",
       "      <td>0</td>\n",
       "      <td>0</td>\n",
       "      <td>...</td>\n",
       "      <td>-701</td>\n",
       "      <td>0</td>\n",
       "      <td>-835</td>\n",
       "      <td>-952</td>\n",
       "      <td>-1263</td>\n",
       "      <td>-1060</td>\n",
       "      <td>0</td>\n",
       "      <td>0</td>\n",
       "      <td>0</td>\n",
       "      <td>0</td>\n",
       "    </tr>\n",
       "    <tr>\n",
       "      <th>064-01-0006</th>\n",
       "      <td>0</td>\n",
       "      <td>-1</td>\n",
       "      <td>0</td>\n",
       "      <td>0</td>\n",
       "      <td>0</td>\n",
       "      <td>0</td>\n",
       "      <td>0</td>\n",
       "      <td>0</td>\n",
       "      <td>0</td>\n",
       "      <td>0</td>\n",
       "      <td>...</td>\n",
       "      <td>-2</td>\n",
       "      <td>0</td>\n",
       "      <td>0</td>\n",
       "      <td>0</td>\n",
       "      <td>0</td>\n",
       "      <td>0</td>\n",
       "      <td>0</td>\n",
       "      <td>0</td>\n",
       "      <td>0</td>\n",
       "      <td>0</td>\n",
       "    </tr>\n",
       "    <tr>\n",
       "      <th>064-01-0012</th>\n",
       "      <td>0</td>\n",
       "      <td>0</td>\n",
       "      <td>0</td>\n",
       "      <td>0</td>\n",
       "      <td>0</td>\n",
       "      <td>0</td>\n",
       "      <td>0</td>\n",
       "      <td>0</td>\n",
       "      <td>0</td>\n",
       "      <td>0</td>\n",
       "      <td>...</td>\n",
       "      <td>-1122</td>\n",
       "      <td>0</td>\n",
       "      <td>-1374</td>\n",
       "      <td>-1519</td>\n",
       "      <td>-1868</td>\n",
       "      <td>-1451</td>\n",
       "      <td>0</td>\n",
       "      <td>0</td>\n",
       "      <td>0</td>\n",
       "      <td>0</td>\n",
       "    </tr>\n",
       "    <tr>\n",
       "      <th>064-01-0013</th>\n",
       "      <td>0</td>\n",
       "      <td>0</td>\n",
       "      <td>0</td>\n",
       "      <td>0</td>\n",
       "      <td>0</td>\n",
       "      <td>0</td>\n",
       "      <td>0</td>\n",
       "      <td>0</td>\n",
       "      <td>0</td>\n",
       "      <td>0</td>\n",
       "      <td>...</td>\n",
       "      <td>-505</td>\n",
       "      <td>0</td>\n",
       "      <td>-581</td>\n",
       "      <td>-655</td>\n",
       "      <td>-891</td>\n",
       "      <td>-731</td>\n",
       "      <td>0</td>\n",
       "      <td>0</td>\n",
       "      <td>0</td>\n",
       "      <td>0</td>\n",
       "    </tr>\n",
       "    <tr>\n",
       "      <th>...</th>\n",
       "      <td>...</td>\n",
       "      <td>...</td>\n",
       "      <td>...</td>\n",
       "      <td>...</td>\n",
       "      <td>...</td>\n",
       "      <td>...</td>\n",
       "      <td>...</td>\n",
       "      <td>...</td>\n",
       "      <td>...</td>\n",
       "      <td>...</td>\n",
       "      <td>...</td>\n",
       "      <td>...</td>\n",
       "      <td>...</td>\n",
       "      <td>...</td>\n",
       "      <td>...</td>\n",
       "      <td>...</td>\n",
       "      <td>...</td>\n",
       "      <td>...</td>\n",
       "      <td>...</td>\n",
       "      <td>...</td>\n",
       "      <td>...</td>\n",
       "    </tr>\n",
       "    <tr>\n",
       "      <th>064-18-9724</th>\n",
       "      <td>-639</td>\n",
       "      <td>-556</td>\n",
       "      <td>-588</td>\n",
       "      <td>-613</td>\n",
       "      <td>-664</td>\n",
       "      <td>1600</td>\n",
       "      <td>-654</td>\n",
       "      <td>4260</td>\n",
       "      <td>0</td>\n",
       "      <td>0</td>\n",
       "      <td>...</td>\n",
       "      <td>-519</td>\n",
       "      <td>0</td>\n",
       "      <td>-538</td>\n",
       "      <td>-560</td>\n",
       "      <td>-662</td>\n",
       "      <td>-557</td>\n",
       "      <td>0</td>\n",
       "      <td>0</td>\n",
       "      <td>0</td>\n",
       "      <td>0</td>\n",
       "    </tr>\n",
       "    <tr>\n",
       "      <th>064-18-9884</th>\n",
       "      <td>-729</td>\n",
       "      <td>-595</td>\n",
       "      <td>-482</td>\n",
       "      <td>-482</td>\n",
       "      <td>-453</td>\n",
       "      <td>0</td>\n",
       "      <td>-454</td>\n",
       "      <td>0</td>\n",
       "      <td>0</td>\n",
       "      <td>0</td>\n",
       "      <td>...</td>\n",
       "      <td>-20</td>\n",
       "      <td>0</td>\n",
       "      <td>-7</td>\n",
       "      <td>-5</td>\n",
       "      <td>-13</td>\n",
       "      <td>-5</td>\n",
       "      <td>0</td>\n",
       "      <td>0</td>\n",
       "      <td>0</td>\n",
       "      <td>0</td>\n",
       "    </tr>\n",
       "    <tr>\n",
       "      <th>064-18-9904</th>\n",
       "      <td>0</td>\n",
       "      <td>0</td>\n",
       "      <td>0</td>\n",
       "      <td>0</td>\n",
       "      <td>0</td>\n",
       "      <td>0</td>\n",
       "      <td>0</td>\n",
       "      <td>0</td>\n",
       "      <td>0</td>\n",
       "      <td>0</td>\n",
       "      <td>...</td>\n",
       "      <td>0</td>\n",
       "      <td>0</td>\n",
       "      <td>0</td>\n",
       "      <td>0</td>\n",
       "      <td>0</td>\n",
       "      <td>0</td>\n",
       "      <td>0</td>\n",
       "      <td>18700</td>\n",
       "      <td>0</td>\n",
       "      <td>5100</td>\n",
       "    </tr>\n",
       "    <tr>\n",
       "      <th>064-18-9938</th>\n",
       "      <td>-456</td>\n",
       "      <td>-413</td>\n",
       "      <td>-449</td>\n",
       "      <td>-535</td>\n",
       "      <td>-648</td>\n",
       "      <td>0</td>\n",
       "      <td>-569</td>\n",
       "      <td>2764</td>\n",
       "      <td>0</td>\n",
       "      <td>0</td>\n",
       "      <td>...</td>\n",
       "      <td>-480</td>\n",
       "      <td>0</td>\n",
       "      <td>-439</td>\n",
       "      <td>-453</td>\n",
       "      <td>-640</td>\n",
       "      <td>-443</td>\n",
       "      <td>0</td>\n",
       "      <td>0</td>\n",
       "      <td>0</td>\n",
       "      <td>0</td>\n",
       "    </tr>\n",
       "    <tr>\n",
       "      <th>064-18-9962</th>\n",
       "      <td>0</td>\n",
       "      <td>0</td>\n",
       "      <td>0</td>\n",
       "      <td>0</td>\n",
       "      <td>0</td>\n",
       "      <td>0</td>\n",
       "      <td>0</td>\n",
       "      <td>0</td>\n",
       "      <td>0</td>\n",
       "      <td>0</td>\n",
       "      <td>...</td>\n",
       "      <td>0</td>\n",
       "      <td>0</td>\n",
       "      <td>0</td>\n",
       "      <td>0</td>\n",
       "      <td>0</td>\n",
       "      <td>0</td>\n",
       "      <td>0</td>\n",
       "      <td>0</td>\n",
       "      <td>0</td>\n",
       "      <td>0</td>\n",
       "    </tr>\n",
       "  </tbody>\n",
       "</table>\n",
       "<p>358 rows × 48 columns</p>\n",
       "</div>"
      ],
      "text/plain": [
       "Inventory Receive  2023-06-03  2023-06-10  2023-06-17  2023-06-24  2023-07-01  \\\n",
       "Item Number                                                                     \n",
       "064-01-0003                 0           0           0           0           0   \n",
       "064-01-0005                 0           0          -1           0           0   \n",
       "064-01-0006                 0          -1           0           0           0   \n",
       "064-01-0012                 0           0           0           0           0   \n",
       "064-01-0013                 0           0           0           0           0   \n",
       "...                       ...         ...         ...         ...         ...   \n",
       "064-18-9724              -639        -556        -588        -613        -664   \n",
       "064-18-9884              -729        -595        -482        -482        -453   \n",
       "064-18-9904                 0           0           0           0           0   \n",
       "064-18-9938              -456        -413        -449        -535        -648   \n",
       "064-18-9962                 0           0           0           0           0   \n",
       "\n",
       "Inventory Receive  2023-07-07  2023-07-08  2023-07-09  2023-07-10  2023-07-14  \\\n",
       "Item Number                                                                     \n",
       "064-01-0003                 0           0           0           0           0   \n",
       "064-01-0005                 0           0           0           0           0   \n",
       "064-01-0006                 0           0           0           0           0   \n",
       "064-01-0012                 0           0           0           0           0   \n",
       "064-01-0013                 0           0           0           0           0   \n",
       "...                       ...         ...         ...         ...         ...   \n",
       "064-18-9724              1600        -654        4260           0           0   \n",
       "064-18-9884                 0        -454           0           0           0   \n",
       "064-18-9904                 0           0           0           0           0   \n",
       "064-18-9938                 0        -569        2764           0           0   \n",
       "064-18-9962                 0           0           0           0           0   \n",
       "\n",
       "Inventory Receive  ...  2023-10-21  2023-10-22  2023-10-28  2023-11-04  \\\n",
       "Item Number        ...                                                   \n",
       "064-01-0003        ...        -317           0        -351        -411   \n",
       "064-01-0005        ...        -701           0        -835        -952   \n",
       "064-01-0006        ...          -2           0           0           0   \n",
       "064-01-0012        ...       -1122           0       -1374       -1519   \n",
       "064-01-0013        ...        -505           0        -581        -655   \n",
       "...                ...         ...         ...         ...         ...   \n",
       "064-18-9724        ...        -519           0        -538        -560   \n",
       "064-18-9884        ...         -20           0          -7          -5   \n",
       "064-18-9904        ...           0           0           0           0   \n",
       "064-18-9938        ...        -480           0        -439        -453   \n",
       "064-18-9962        ...           0           0           0           0   \n",
       "\n",
       "Inventory Receive  2023-11-11  2023-11-18  2023-11-26  2023-12-01  2023-12-08  \\\n",
       "Item Number                                                                     \n",
       "064-01-0003              -585        -473           0           0           0   \n",
       "064-01-0005             -1263       -1060           0           0           0   \n",
       "064-01-0006                 0           0           0           0           0   \n",
       "064-01-0012             -1868       -1451           0           0           0   \n",
       "064-01-0013              -891        -731           0           0           0   \n",
       "...                       ...         ...         ...         ...         ...   \n",
       "064-18-9724              -662        -557           0           0           0   \n",
       "064-18-9884               -13          -5           0           0           0   \n",
       "064-18-9904                 0           0           0       18700           0   \n",
       "064-18-9938              -640        -443           0           0           0   \n",
       "064-18-9962                 0           0           0           0           0   \n",
       "\n",
       "Inventory Receive  2023-12-15  \n",
       "Item Number                    \n",
       "064-01-0003                 0  \n",
       "064-01-0005                 0  \n",
       "064-01-0006                 0  \n",
       "064-01-0012                 0  \n",
       "064-01-0013                 0  \n",
       "...                       ...  \n",
       "064-18-9724                 0  \n",
       "064-18-9884                 0  \n",
       "064-18-9904              5100  \n",
       "064-18-9938                 0  \n",
       "064-18-9962                 0  \n",
       "\n",
       "[358 rows x 48 columns]"
      ]
     },
     "execution_count": 496,
     "metadata": {},
     "output_type": "execute_result"
    }
   ],
   "source": [
    "sales_pivot"
   ]
  },
  {
   "cell_type": "code",
   "execution_count": 497,
   "metadata": {},
   "outputs": [
    {
     "name": "stderr",
     "output_type": "stream",
     "text": [
      "C:\\Users\\prabh\\AppData\\Local\\Temp\\ipykernel_12728\\1389309057.py:4: FutureWarning: Calling int on a single element Series is deprecated and will raise a TypeError in the future. Use int(ser.iloc[0]) instead\n",
      "  on_stock=int(on_stock)\n"
     ]
    }
   ],
   "source": [
    "\n",
    "for item_num,row in sales_pivot.iterrows():\n",
    "    try:\n",
    "        on_stock = df_inventory[df_inventory['Item Number'] == item_num]['Inventory']\n",
    "        on_stock=int(on_stock)\n",
    "    except:\n",
    "        on_stock=0\n",
    "\n",
    "    for k in sales_pivot.columns:\n",
    "        on_stock=on_stock+row[k]\n",
    "        row[k]=on_stock\n",
    "        \n",
    "    "
   ]
  },
  {
   "cell_type": "code",
   "execution_count": 498,
   "metadata": {},
   "outputs": [
    {
     "data": {
      "text/html": [
       "<div>\n",
       "<style scoped>\n",
       "    .dataframe tbody tr th:only-of-type {\n",
       "        vertical-align: middle;\n",
       "    }\n",
       "\n",
       "    .dataframe tbody tr th {\n",
       "        vertical-align: top;\n",
       "    }\n",
       "\n",
       "    .dataframe thead th {\n",
       "        text-align: right;\n",
       "    }\n",
       "</style>\n",
       "<table border=\"1\" class=\"dataframe\">\n",
       "  <thead>\n",
       "    <tr style=\"text-align: right;\">\n",
       "      <th>Inventory Receive</th>\n",
       "      <th>2023-06-03</th>\n",
       "      <th>2023-06-10</th>\n",
       "      <th>2023-06-17</th>\n",
       "      <th>2023-06-24</th>\n",
       "      <th>2023-07-01</th>\n",
       "      <th>2023-07-07</th>\n",
       "      <th>2023-07-08</th>\n",
       "      <th>2023-07-09</th>\n",
       "      <th>2023-07-10</th>\n",
       "      <th>2023-07-14</th>\n",
       "      <th>...</th>\n",
       "      <th>2023-10-21</th>\n",
       "      <th>2023-10-22</th>\n",
       "      <th>2023-10-28</th>\n",
       "      <th>2023-11-04</th>\n",
       "      <th>2023-11-11</th>\n",
       "      <th>2023-11-18</th>\n",
       "      <th>2023-11-26</th>\n",
       "      <th>2023-12-01</th>\n",
       "      <th>2023-12-08</th>\n",
       "      <th>2023-12-15</th>\n",
       "    </tr>\n",
       "    <tr>\n",
       "      <th>Item Number</th>\n",
       "      <th></th>\n",
       "      <th></th>\n",
       "      <th></th>\n",
       "      <th></th>\n",
       "      <th></th>\n",
       "      <th></th>\n",
       "      <th></th>\n",
       "      <th></th>\n",
       "      <th></th>\n",
       "      <th></th>\n",
       "      <th></th>\n",
       "      <th></th>\n",
       "      <th></th>\n",
       "      <th></th>\n",
       "      <th></th>\n",
       "      <th></th>\n",
       "      <th></th>\n",
       "      <th></th>\n",
       "      <th></th>\n",
       "      <th></th>\n",
       "      <th></th>\n",
       "    </tr>\n",
       "  </thead>\n",
       "  <tbody>\n",
       "    <tr>\n",
       "      <th>064-01-0003</th>\n",
       "      <td>0</td>\n",
       "      <td>0</td>\n",
       "      <td>0</td>\n",
       "      <td>0</td>\n",
       "      <td>0</td>\n",
       "      <td>0</td>\n",
       "      <td>0</td>\n",
       "      <td>0</td>\n",
       "      <td>0</td>\n",
       "      <td>0</td>\n",
       "      <td>...</td>\n",
       "      <td>6754</td>\n",
       "      <td>6754</td>\n",
       "      <td>6403</td>\n",
       "      <td>5992</td>\n",
       "      <td>5407</td>\n",
       "      <td>4934</td>\n",
       "      <td>4934</td>\n",
       "      <td>4934</td>\n",
       "      <td>4934</td>\n",
       "      <td>4934</td>\n",
       "    </tr>\n",
       "    <tr>\n",
       "      <th>064-01-0005</th>\n",
       "      <td>0</td>\n",
       "      <td>0</td>\n",
       "      <td>-1</td>\n",
       "      <td>-1</td>\n",
       "      <td>-1</td>\n",
       "      <td>-1</td>\n",
       "      <td>-1</td>\n",
       "      <td>-1</td>\n",
       "      <td>-1</td>\n",
       "      <td>-1</td>\n",
       "      <td>...</td>\n",
       "      <td>8571</td>\n",
       "      <td>8571</td>\n",
       "      <td>7736</td>\n",
       "      <td>6784</td>\n",
       "      <td>5521</td>\n",
       "      <td>4461</td>\n",
       "      <td>4461</td>\n",
       "      <td>4461</td>\n",
       "      <td>4461</td>\n",
       "      <td>4461</td>\n",
       "    </tr>\n",
       "    <tr>\n",
       "      <th>064-01-0006</th>\n",
       "      <td>10</td>\n",
       "      <td>9</td>\n",
       "      <td>9</td>\n",
       "      <td>9</td>\n",
       "      <td>9</td>\n",
       "      <td>9</td>\n",
       "      <td>9</td>\n",
       "      <td>9</td>\n",
       "      <td>9</td>\n",
       "      <td>9</td>\n",
       "      <td>...</td>\n",
       "      <td>3</td>\n",
       "      <td>3</td>\n",
       "      <td>3</td>\n",
       "      <td>3</td>\n",
       "      <td>3</td>\n",
       "      <td>3</td>\n",
       "      <td>3</td>\n",
       "      <td>3</td>\n",
       "      <td>3</td>\n",
       "      <td>3</td>\n",
       "    </tr>\n",
       "    <tr>\n",
       "      <th>064-01-0012</th>\n",
       "      <td>0</td>\n",
       "      <td>0</td>\n",
       "      <td>0</td>\n",
       "      <td>0</td>\n",
       "      <td>0</td>\n",
       "      <td>0</td>\n",
       "      <td>0</td>\n",
       "      <td>0</td>\n",
       "      <td>0</td>\n",
       "      <td>0</td>\n",
       "      <td>...</td>\n",
       "      <td>8025</td>\n",
       "      <td>8025</td>\n",
       "      <td>6651</td>\n",
       "      <td>5132</td>\n",
       "      <td>3264</td>\n",
       "      <td>1813</td>\n",
       "      <td>1813</td>\n",
       "      <td>1813</td>\n",
       "      <td>1813</td>\n",
       "      <td>1813</td>\n",
       "    </tr>\n",
       "    <tr>\n",
       "      <th>064-01-0013</th>\n",
       "      <td>0</td>\n",
       "      <td>0</td>\n",
       "      <td>0</td>\n",
       "      <td>0</td>\n",
       "      <td>0</td>\n",
       "      <td>0</td>\n",
       "      <td>0</td>\n",
       "      <td>0</td>\n",
       "      <td>0</td>\n",
       "      <td>0</td>\n",
       "      <td>...</td>\n",
       "      <td>7210</td>\n",
       "      <td>7210</td>\n",
       "      <td>6629</td>\n",
       "      <td>5974</td>\n",
       "      <td>5083</td>\n",
       "      <td>4352</td>\n",
       "      <td>4352</td>\n",
       "      <td>4352</td>\n",
       "      <td>4352</td>\n",
       "      <td>4352</td>\n",
       "    </tr>\n",
       "    <tr>\n",
       "      <th>...</th>\n",
       "      <td>...</td>\n",
       "      <td>...</td>\n",
       "      <td>...</td>\n",
       "      <td>...</td>\n",
       "      <td>...</td>\n",
       "      <td>...</td>\n",
       "      <td>...</td>\n",
       "      <td>...</td>\n",
       "      <td>...</td>\n",
       "      <td>...</td>\n",
       "      <td>...</td>\n",
       "      <td>...</td>\n",
       "      <td>...</td>\n",
       "      <td>...</td>\n",
       "      <td>...</td>\n",
       "      <td>...</td>\n",
       "      <td>...</td>\n",
       "      <td>...</td>\n",
       "      <td>...</td>\n",
       "      <td>...</td>\n",
       "      <td>...</td>\n",
       "    </tr>\n",
       "    <tr>\n",
       "      <th>064-18-9724</th>\n",
       "      <td>6700</td>\n",
       "      <td>6144</td>\n",
       "      <td>5556</td>\n",
       "      <td>4943</td>\n",
       "      <td>4279</td>\n",
       "      <td>5879</td>\n",
       "      <td>5225</td>\n",
       "      <td>9485</td>\n",
       "      <td>9485</td>\n",
       "      <td>9485</td>\n",
       "      <td>...</td>\n",
       "      <td>4196</td>\n",
       "      <td>4196</td>\n",
       "      <td>3658</td>\n",
       "      <td>3098</td>\n",
       "      <td>2436</td>\n",
       "      <td>1879</td>\n",
       "      <td>1879</td>\n",
       "      <td>1879</td>\n",
       "      <td>1879</td>\n",
       "      <td>1879</td>\n",
       "    </tr>\n",
       "    <tr>\n",
       "      <th>064-18-9884</th>\n",
       "      <td>11690</td>\n",
       "      <td>11095</td>\n",
       "      <td>10613</td>\n",
       "      <td>10131</td>\n",
       "      <td>9678</td>\n",
       "      <td>9678</td>\n",
       "      <td>9224</td>\n",
       "      <td>9224</td>\n",
       "      <td>9224</td>\n",
       "      <td>9224</td>\n",
       "      <td>...</td>\n",
       "      <td>-299</td>\n",
       "      <td>-299</td>\n",
       "      <td>-306</td>\n",
       "      <td>-311</td>\n",
       "      <td>-324</td>\n",
       "      <td>-329</td>\n",
       "      <td>-329</td>\n",
       "      <td>-329</td>\n",
       "      <td>-329</td>\n",
       "      <td>-329</td>\n",
       "    </tr>\n",
       "    <tr>\n",
       "      <th>064-18-9904</th>\n",
       "      <td>0</td>\n",
       "      <td>0</td>\n",
       "      <td>0</td>\n",
       "      <td>0</td>\n",
       "      <td>0</td>\n",
       "      <td>0</td>\n",
       "      <td>0</td>\n",
       "      <td>0</td>\n",
       "      <td>0</td>\n",
       "      <td>0</td>\n",
       "      <td>...</td>\n",
       "      <td>0</td>\n",
       "      <td>0</td>\n",
       "      <td>0</td>\n",
       "      <td>0</td>\n",
       "      <td>0</td>\n",
       "      <td>0</td>\n",
       "      <td>0</td>\n",
       "      <td>18700</td>\n",
       "      <td>18700</td>\n",
       "      <td>23800</td>\n",
       "    </tr>\n",
       "    <tr>\n",
       "      <th>064-18-9938</th>\n",
       "      <td>2280</td>\n",
       "      <td>1867</td>\n",
       "      <td>1418</td>\n",
       "      <td>883</td>\n",
       "      <td>235</td>\n",
       "      <td>235</td>\n",
       "      <td>-334</td>\n",
       "      <td>2430</td>\n",
       "      <td>2430</td>\n",
       "      <td>2430</td>\n",
       "      <td>...</td>\n",
       "      <td>4776</td>\n",
       "      <td>4776</td>\n",
       "      <td>4337</td>\n",
       "      <td>3884</td>\n",
       "      <td>3244</td>\n",
       "      <td>2801</td>\n",
       "      <td>2801</td>\n",
       "      <td>2801</td>\n",
       "      <td>2801</td>\n",
       "      <td>2801</td>\n",
       "    </tr>\n",
       "    <tr>\n",
       "      <th>064-18-9962</th>\n",
       "      <td>19</td>\n",
       "      <td>19</td>\n",
       "      <td>19</td>\n",
       "      <td>19</td>\n",
       "      <td>19</td>\n",
       "      <td>19</td>\n",
       "      <td>19</td>\n",
       "      <td>19</td>\n",
       "      <td>19</td>\n",
       "      <td>19</td>\n",
       "      <td>...</td>\n",
       "      <td>15</td>\n",
       "      <td>15</td>\n",
       "      <td>15</td>\n",
       "      <td>15</td>\n",
       "      <td>15</td>\n",
       "      <td>15</td>\n",
       "      <td>15</td>\n",
       "      <td>15</td>\n",
       "      <td>15</td>\n",
       "      <td>15</td>\n",
       "    </tr>\n",
       "  </tbody>\n",
       "</table>\n",
       "<p>358 rows × 48 columns</p>\n",
       "</div>"
      ],
      "text/plain": [
       "Inventory Receive  2023-06-03  2023-06-10  2023-06-17  2023-06-24  2023-07-01  \\\n",
       "Item Number                                                                     \n",
       "064-01-0003                 0           0           0           0           0   \n",
       "064-01-0005                 0           0          -1          -1          -1   \n",
       "064-01-0006                10           9           9           9           9   \n",
       "064-01-0012                 0           0           0           0           0   \n",
       "064-01-0013                 0           0           0           0           0   \n",
       "...                       ...         ...         ...         ...         ...   \n",
       "064-18-9724              6700        6144        5556        4943        4279   \n",
       "064-18-9884             11690       11095       10613       10131        9678   \n",
       "064-18-9904                 0           0           0           0           0   \n",
       "064-18-9938              2280        1867        1418         883         235   \n",
       "064-18-9962                19          19          19          19          19   \n",
       "\n",
       "Inventory Receive  2023-07-07  2023-07-08  2023-07-09  2023-07-10  2023-07-14  \\\n",
       "Item Number                                                                     \n",
       "064-01-0003                 0           0           0           0           0   \n",
       "064-01-0005                -1          -1          -1          -1          -1   \n",
       "064-01-0006                 9           9           9           9           9   \n",
       "064-01-0012                 0           0           0           0           0   \n",
       "064-01-0013                 0           0           0           0           0   \n",
       "...                       ...         ...         ...         ...         ...   \n",
       "064-18-9724              5879        5225        9485        9485        9485   \n",
       "064-18-9884              9678        9224        9224        9224        9224   \n",
       "064-18-9904                 0           0           0           0           0   \n",
       "064-18-9938               235        -334        2430        2430        2430   \n",
       "064-18-9962                19          19          19          19          19   \n",
       "\n",
       "Inventory Receive  ...  2023-10-21  2023-10-22  2023-10-28  2023-11-04  \\\n",
       "Item Number        ...                                                   \n",
       "064-01-0003        ...        6754        6754        6403        5992   \n",
       "064-01-0005        ...        8571        8571        7736        6784   \n",
       "064-01-0006        ...           3           3           3           3   \n",
       "064-01-0012        ...        8025        8025        6651        5132   \n",
       "064-01-0013        ...        7210        7210        6629        5974   \n",
       "...                ...         ...         ...         ...         ...   \n",
       "064-18-9724        ...        4196        4196        3658        3098   \n",
       "064-18-9884        ...        -299        -299        -306        -311   \n",
       "064-18-9904        ...           0           0           0           0   \n",
       "064-18-9938        ...        4776        4776        4337        3884   \n",
       "064-18-9962        ...          15          15          15          15   \n",
       "\n",
       "Inventory Receive  2023-11-11  2023-11-18  2023-11-26  2023-12-01  2023-12-08  \\\n",
       "Item Number                                                                     \n",
       "064-01-0003              5407        4934        4934        4934        4934   \n",
       "064-01-0005              5521        4461        4461        4461        4461   \n",
       "064-01-0006                 3           3           3           3           3   \n",
       "064-01-0012              3264        1813        1813        1813        1813   \n",
       "064-01-0013              5083        4352        4352        4352        4352   \n",
       "...                       ...         ...         ...         ...         ...   \n",
       "064-18-9724              2436        1879        1879        1879        1879   \n",
       "064-18-9884              -324        -329        -329        -329        -329   \n",
       "064-18-9904                 0           0           0       18700       18700   \n",
       "064-18-9938              3244        2801        2801        2801        2801   \n",
       "064-18-9962                15          15          15          15          15   \n",
       "\n",
       "Inventory Receive  2023-12-15  \n",
       "Item Number                    \n",
       "064-01-0003              4934  \n",
       "064-01-0005              4461  \n",
       "064-01-0006                 3  \n",
       "064-01-0012              1813  \n",
       "064-01-0013              4352  \n",
       "...                       ...  \n",
       "064-18-9724              1879  \n",
       "064-18-9884              -329  \n",
       "064-18-9904             23800  \n",
       "064-18-9938              2801  \n",
       "064-18-9962                15  \n",
       "\n",
       "[358 rows x 48 columns]"
      ]
     },
     "execution_count": 498,
     "metadata": {},
     "output_type": "execute_result"
    }
   ],
   "source": [
    "sales_pivot"
   ]
  },
  {
   "cell_type": "code",
   "execution_count": 499,
   "metadata": {},
   "outputs": [],
   "source": [
    "sales=concat_df.groupby('Month')['Total Item Qty'].sum().values"
   ]
  },
  {
   "cell_type": "code",
   "execution_count": 500,
   "metadata": {},
   "outputs": [],
   "source": [
    "df_sold['Month']=df_sold['Date'].dt.month\n",
    "#concat_df['Inventory Receive'] = pd.to_datetime(concat_df['Inventory Receive'], format='%d/%m/%Y')"
   ]
  },
  {
   "cell_type": "code",
   "execution_count": 519,
   "metadata": {},
   "outputs": [],
   "source": [
    "sold_month=(df_sold.groupby('Month')['Sales U'].sum().values)*-1"
   ]
  },
  {
   "cell_type": "code",
   "execution_count": 502,
   "metadata": {},
   "outputs": [],
   "source": [
    "df_new_arrivals['Month']=df_new_arrivals['Inventory Receive'].dt.month"
   ]
  },
  {
   "cell_type": "code",
   "execution_count": 503,
   "metadata": {},
   "outputs": [
    {
     "name": "stdout",
     "output_type": "stream",
     "text": [
      "Month\n",
      "7     698592\n",
      "8     726094\n",
      "9     670252\n",
      "10    303826\n",
      "11     24848\n",
      "12     63172\n",
      "Name: Total Item Qty, dtype: int64\n"
     ]
    }
   ],
   "source": [
    "arival_per_month= df_new_arrivals.groupby('Month')['Total Item Qty'].sum()\n",
    "print(arival_per_month)"
   ]
  },
  {
   "cell_type": "code",
   "execution_count": 504,
   "metadata": {},
   "outputs": [
    {
     "name": "stdout",
     "output_type": "stream",
     "text": [
      "total inv at time of june 1388034\n"
     ]
    }
   ],
   "source": [
    "total_inven=df_inventory['Inventory'].sum()\n",
    "print(\"total inv at time of june\",total_inven)"
   ]
  },
  {
   "cell_type": "code",
   "execution_count": 505,
   "metadata": {},
   "outputs": [],
   "source": [
    "recived=list(recived)"
   ]
  },
  {
   "cell_type": "code",
   "execution_count": 516,
   "metadata": {},
   "outputs": [],
   "source": [
    "net_stock=net_stock.values\n",
    "net_stock=list(net_stock)\n",
    "net_stock.insert(0,total_inven)"
   ]
  },
  {
   "cell_type": "code",
   "execution_count": 507,
   "metadata": {},
   "outputs": [
    {
     "data": {
      "text/plain": [
       "[1388034, 698592.0, 726094.0, 670252.0, 303826.0, 24848.0, 63172.0]"
      ]
     },
     "execution_count": 507,
     "metadata": {},
     "output_type": "execute_result"
    }
   ],
   "source": [
    "recived"
   ]
  },
  {
   "cell_type": "code",
   "execution_count": 510,
   "metadata": {},
   "outputs": [
    {
     "data": {
      "text/plain": [
       "['June', 'July', 'August', 'September', 'October', 'November', 'December']"
      ]
     },
     "execution_count": 510,
     "metadata": {},
     "output_type": "execute_result"
    }
   ],
   "source": [
    "month_names"
   ]
  },
  {
   "cell_type": "code",
   "execution_count": 518,
   "metadata": {},
   "outputs": [
    {
     "data": {
      "image/png": "[encoded data removed]",
      "text/plain": [
       "<Figure size 1400x500 with 2 Axes>"
      ]
     },
     "metadata": {},
     "output_type": "display_data"
    }
   ],
   "source": [
    "fig, axs = plt.subplots(nrows=1, ncols=2, figsize=(14, 5))\n",
    "\n",
    "# Line plot\n",
    "axs[0].plot(month_names, recived, marker='o', color='blue', label='Received')\n",
    "axs[0].plot(month_names[:-1], sold_month, marker='o', color='red', label='Sold')\n",
    "axs[0].set_title('Total Item Qty Received to Inventory in Each Month')\n",
    "axs[0].set_xlabel('Month')\n",
    "axs[0].set_ylabel('Total Item Received (in Lakhs)')\n",
    "axs[0].grid(True)\n",
    "axs[0].legend()\n",
    "\n",
    "# Bar plot\n",
    "axs[1].bar(month_names, net_stock , color='#346888', label='Inventory')\n",
    "axs[1].set_title('Total Item Qty in Inventory for Each Month')\n",
    "axs[1].set_xlabel('Month')\n",
    "axs[1].set_ylabel('Total Item Qty (in Lakhs)')\n",
    "#axs[1].grid(True)\n",
    "axs[1].legend()\n",
    "\n",
    "\n",
    "plt.tight_layout()\n",
    "\n",
    "\n",
    "plt.savefig('plots\\\\sale_chart.png')\n",
    "\n",
    "# Show the plots\n",
    "plt.show()"
   ]
  }
 ],
 "metadata": {
  "kernelspec": {
   "display_name": "Python 3",
   "language": "python",
   "name": "python3"
  },
  "language_info": {
   "codemirror_mode": {
    "name": "ipython",
    "version": 3
   },
   "file_extension": ".py",
   "mimetype": "text/x-python",
   "name": "python",
   "nbconvert_exporter": "python",
   "pygments_lexer": "ipython3",
   "version": "3.11.6"
  }
 },
 "nbformat": 4,
 "nbformat_minor": 2
}
