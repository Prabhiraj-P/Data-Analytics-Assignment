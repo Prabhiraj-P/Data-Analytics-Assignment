{
 "cells": [
  {
   "cell_type": "code",
   "execution_count": 211,
   "metadata": {},
   "outputs": [],
   "source": [
    "import calendar\n",
    "import pandas as pd \n",
    "import numpy as np \n",
    "import matplotlib\n",
    "import matplotlib.pyplot as plt\n",
    "import seaborn as sns"
   ]
  },
  {
   "cell_type": "code",
   "execution_count": 212,
   "metadata": {},
   "outputs": [],
   "source": [
    "inven_path='Data\\\\Inventory Dataset.xlsx'\n",
    "new_inv_path='Data\\\\New Inventory.xlsx'"
   ]
  },
  {
   "cell_type": "code",
   "execution_count": 213,
   "metadata": {},
   "outputs": [],
   "source": [
    "df_inventory=pd.read_excel(inven_path)\n",
    "df_new_arrivals=pd.read_excel(new_inv_path)"
   ]
  },
  {
   "cell_type": "markdown",
   "metadata": {},
   "source": [
    "## Inventory Dataset.xlsx"
   ]
  },
  {
   "cell_type": "code",
   "execution_count": 214,
   "metadata": {},
   "outputs": [
    {
     "name": "stdout",
     "output_type": "stream",
     "text": [
      "The Inventory dataset contains 356 rows and 3 columns.\n"
     ]
    }
   ],
   "source": [
    "print(\"The Inventory dataset contains {} rows and {} columns.\".format(df_inventory.shape[0],df_inventory.shape[1]))\n"
   ]
  },
  {
   "cell_type": "code",
   "execution_count": 215,
   "metadata": {},
   "outputs": [
    {
     "data": {
      "text/plain": [
       "356"
      ]
     },
     "execution_count": 215,
     "metadata": {},
     "output_type": "execute_result"
    }
   ],
   "source": [
    "len(df_inventory['Item Number'].unique())"
   ]
  },
  {
   "cell_type": "markdown",
   "metadata": {},
   "source": [
    "## New Inventory.xlsx"
   ]
  },
  {
   "cell_type": "code",
   "execution_count": 216,
   "metadata": {},
   "outputs": [
    {
     "name": "stdout",
     "output_type": "stream",
     "text": [
      "The New inventory dataset contains 1039 rows and 3 columns.\n"
     ]
    }
   ],
   "source": [
    "print(\"The New inventory dataset contains {} rows and {} columns.\".format(df_new_arrivals.shape[0],df_new_arrivals.shape[1]))"
   ]
  },
  {
   "cell_type": "code",
   "execution_count": 217,
   "metadata": {},
   "outputs": [
    {
     "data": {
      "text/plain": [
       "213"
      ]
     },
     "execution_count": 217,
     "metadata": {},
     "output_type": "execute_result"
    }
   ],
   "source": [
    "len(df_new_arrivals['Item Number'].unique())"
   ]
  },
  {
   "cell_type": "code",
   "execution_count": 218,
   "metadata": {},
   "outputs": [
    {
     "data": {
      "text/plain": [
       "23"
      ]
     },
     "execution_count": 218,
     "metadata": {},
     "output_type": "execute_result"
    }
   ],
   "source": [
    "len(df_new_arrivals['Inventory Receive'].unique())"
   ]
  },
  {
   "cell_type": "markdown",
   "metadata": {},
   "source": [
    "The inventory data set contains 356 unique item numbers and the number of items in that inventory. The new inventory dataset contains 1,039 rows of numbers <br> \n",
    "showing how many new items were added to inventory and when they arrived. The new inventory dataset contains 213 unique items, which means that out of 356 items,<br>\n",
    "only 213 items were received on 23 different unique dates."
   ]
  },
  {
   "cell_type": "code",
   "execution_count": 219,
   "metadata": {},
   "outputs": [],
   "source": [
    "\n",
    "df_new_arrivals['Inventory Receive']= pd.to_datetime(df_new_arrivals['Inventory Receive'])\n",
    "df_inventory['Date']=pd.to_datetime(df_inventory['Date'])\n",
    "#df_inventory=df_inventory.sort_values(by=['Inventory Receive'],)"
   ]
  },
  {
   "cell_type": "markdown",
   "metadata": {},
   "source": [
    "## Merging both files"
   ]
  },
  {
   "cell_type": "code",
   "execution_count": 220,
   "metadata": {},
   "outputs": [],
   "source": [
    "df_merged = pd.merge(df_inventory, df_new_arrivals, on='Item Number', how='outer')\n",
    "df_merged=df_merged.sort_values(by=['Inventory Receive'],ascending=True,key=lambda x: x.astype(np.int64))\n"
   ]
  },
  {
   "cell_type": "code",
   "execution_count": 221,
   "metadata": {},
   "outputs": [],
   "source": [
    "pivot_table = df_merged.pivot_table(values='Total Item Qty', \n",
    "                             index='Item Number', \n",
    "                             columns='Inventory Receive', \n",
    "                             aggfunc='sum', \n",
    "                             fill_value=0)\n"
   ]
  },
  {
   "cell_type": "code",
   "execution_count": 222,
   "metadata": {},
   "outputs": [
    {
     "name": "stderr",
     "output_type": "stream",
     "text": [
      "C:\\Users\\prabh\\AppData\\Local\\Temp\\ipykernel_21064\\4281683759.py:4: FutureWarning: Calling int on a single element Series is deprecated and will raise a TypeError in the future. Use int(ser.iloc[0]) instead\n",
      "  on_stock=int(on_stock)\n"
     ]
    }
   ],
   "source": [
    "\n",
    "for item_num,row in pivot_table.iterrows():\n",
    "    try:\n",
    "        on_stock = df_inventory[df_inventory['Item Number'] == item_num]['Inventory']\n",
    "        on_stock=int(on_stock)\n",
    "    except:\n",
    "        on_stock=0\n",
    "\n",
    "    for k in pivot_table.columns:\n",
    "        on_stock=on_stock+row[k]\n",
    "        row[k]=on_stock\n",
    "        \n",
    "    "
   ]
  },
  {
   "cell_type": "markdown",
   "metadata": {},
   "source": [
    "## Visualization"
   ]
  },
  {
   "cell_type": "code",
   "execution_count": 223,
   "metadata": {},
   "outputs": [
    {
     "data": {
      "text/plain": [
       "Index(['Item Number', 'Date', 'Inventory', 'Inventory Receive',\n",
       "       'Total Item Qty'],\n",
       "      dtype='object')"
      ]
     },
     "execution_count": 223,
     "metadata": {},
     "output_type": "execute_result"
    }
   ],
   "source": [
    "df_merged.columns"
   ]
  },
  {
   "cell_type": "code",
   "execution_count": 224,
   "metadata": {},
   "outputs": [],
   "source": [
    "df_merged[\"Month\"]=df_merged['Inventory Receive'].dt.month"
   ]
  },
  {
   "cell_type": "code",
   "execution_count": 225,
   "metadata": {},
   "outputs": [],
   "source": [
    "month_total=Inventory_Receive_sum=df_merged.groupby('Month')['Total Item Qty'].sum()"
   ]
  },
  {
   "cell_type": "code",
   "execution_count": 226,
   "metadata": {},
   "outputs": [],
   "source": [
    "Inventory_sum=df_x['Inventory'].sum()\n",
    "month_total[6]=Inventory_sum\n",
    "month_total=month_total.sort_index(ascending=True)\n",
    "month_total=pd.DataFrame(month_total)"
   ]
  },
  {
   "cell_type": "code",
   "execution_count": 227,
   "metadata": {},
   "outputs": [
    {
     "data": {
      "text/html": [
       "<div>\n",
       "<style scoped>\n",
       "    .dataframe tbody tr th:only-of-type {\n",
       "        vertical-align: middle;\n",
       "    }\n",
       "\n",
       "    .dataframe tbody tr th {\n",
       "        vertical-align: top;\n",
       "    }\n",
       "\n",
       "    .dataframe thead th {\n",
       "        text-align: right;\n",
       "    }\n",
       "</style>\n",
       "<table border=\"1\" class=\"dataframe\">\n",
       "  <thead>\n",
       "    <tr style=\"text-align: right;\">\n",
       "      <th></th>\n",
       "      <th>Total Item Qty</th>\n",
       "    </tr>\n",
       "    <tr>\n",
       "      <th>Month</th>\n",
       "      <th></th>\n",
       "    </tr>\n",
       "  </thead>\n",
       "  <tbody>\n",
       "    <tr>\n",
       "      <th>6.0</th>\n",
       "      <td>1388034.0</td>\n",
       "    </tr>\n",
       "    <tr>\n",
       "      <th>7.0</th>\n",
       "      <td>698592.0</td>\n",
       "    </tr>\n",
       "    <tr>\n",
       "      <th>8.0</th>\n",
       "      <td>726094.0</td>\n",
       "    </tr>\n",
       "    <tr>\n",
       "      <th>9.0</th>\n",
       "      <td>670252.0</td>\n",
       "    </tr>\n",
       "    <tr>\n",
       "      <th>10.0</th>\n",
       "      <td>303826.0</td>\n",
       "    </tr>\n",
       "    <tr>\n",
       "      <th>11.0</th>\n",
       "      <td>24848.0</td>\n",
       "    </tr>\n",
       "    <tr>\n",
       "      <th>12.0</th>\n",
       "      <td>63172.0</td>\n",
       "    </tr>\n",
       "  </tbody>\n",
       "</table>\n",
       "</div>"
      ],
      "text/plain": [
       "       Total Item Qty\n",
       "Month                \n",
       "6.0         1388034.0\n",
       "7.0          698592.0\n",
       "8.0          726094.0\n",
       "9.0          670252.0\n",
       "10.0         303826.0\n",
       "11.0          24848.0\n",
       "12.0          63172.0"
      ]
     },
     "execution_count": 227,
     "metadata": {},
     "output_type": "execute_result"
    }
   ],
   "source": [
    "month_total"
   ]
  },
  {
   "cell_type": "code",
   "execution_count": 228,
   "metadata": {},
   "outputs": [],
   "source": [
    "item_recived=month_total"
   ]
  },
  {
   "cell_type": "code",
   "execution_count": 229,
   "metadata": {},
   "outputs": [],
   "source": [
    "month_names = [calendar.month_name[i] for i in range(6, 13)]"
   ]
  },
  {
   "cell_type": "code",
   "execution_count": 235,
   "metadata": {},
   "outputs": [
    {
     "data": {
      "image/png": "[encoded data removed]",
      "text/plain": [
       "<Figure size 640x480 with 1 Axes>"
      ]
     },
     "metadata": {},
     "output_type": "display_data"
    }
   ],
   "source": [
    "\n",
    "sns.lineplot(x=month_names, y=item_recived['Total Item Qty'], marker='o')\n",
    "\n",
    "plt.xlabel('Month')\n",
    "plt.ylabel('Total Item Received')\n",
    "plt.title('Total Item Qty Received to Inventory in Each Month')\n",
    "\n",
    "# Show the plot\n",
    "plt.show()"
   ]
  },
  {
   "cell_type": "code",
   "execution_count": 231,
   "metadata": {},
   "outputs": [],
   "source": [
    "for x in range(7,6+len(month_total['Total Item Qty'])):\n",
    "    month_total['Total Item Qty'][x]=month_total['Total Item Qty'][x-1]+month_total['Total Item Qty'][x]"
   ]
  },
  {
   "cell_type": "code",
   "execution_count": 232,
   "metadata": {},
   "outputs": [
    {
     "data": {
      "image/png": "[encoded data removed]",
      "text/plain": [
       "<Figure size 640x480 with 1 Axes>"
      ]
     },
     "metadata": {},
     "output_type": "display_data"
    }
   ],
   "source": [
    "sns.barplot(x=month_names, y=month_total['Total Item Qty'])\n",
    "\n",
    "plt.xlabel('Month')\n",
    "plt.ylabel('Total Item Qty')\n",
    "plt.title('Total Item Qty for Each Month')\n",
    "\n",
    "plt.show()"
   ]
  }
 ],
 "metadata": {
  "kernelspec": {
   "display_name": "Python 3",
   "language": "python",
   "name": "python3"
  },
  "language_info": {
   "codemirror_mode": {
    "name": "ipython",
    "version": 3
   },
   "file_extension": ".py",
   "mimetype": "text/x-python",
   "name": "python",
   "nbconvert_exporter": "python",
   "pygments_lexer": "ipython3",
   "version": "3.11.6"
  }
 },
 "nbformat": 4,
 "nbformat_minor": 2
}
