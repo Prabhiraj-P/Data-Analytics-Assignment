{
 "cells": [
  {
   "cell_type": "code",
   "execution_count": 45,
   "metadata": {},
   "outputs": [],
   "source": [
    "import pandas as pd \n",
    "import numpy as np \n",
    "import matplotlib\n",
    "import seaborn"
   ]
  },
  {
   "cell_type": "code",
   "execution_count": 46,
   "metadata": {},
   "outputs": [],
   "source": [
    "inven_path='Data\\\\Inventory Dataset.xlsx'\n",
    "new_inv_path='Data\\\\New Inventory.xlsx'"
   ]
  },
  {
   "cell_type": "code",
   "execution_count": 47,
   "metadata": {},
   "outputs": [],
   "source": [
    "df_inventory=pd.read_excel(inven_path)\n",
    "df_new_arrivals=pd.read_excel(new_inv_path)"
   ]
  },
  {
   "cell_type": "markdown",
   "metadata": {},
   "source": [
    "## Inventory Dataset.xlsx"
   ]
  },
  {
   "cell_type": "code",
   "execution_count": 48,
   "metadata": {},
   "outputs": [
    {
     "name": "stdout",
     "output_type": "stream",
     "text": [
      "The Inventory dataset contains 356 rows and 3 columns.\n"
     ]
    }
   ],
   "source": [
    "print(\"The Inventory dataset contains {} rows and {} columns.\".format(df_inventory.shape[0],df_inventory.shape[1]))\n"
   ]
  },
  {
   "cell_type": "code",
   "execution_count": 49,
   "metadata": {},
   "outputs": [
    {
     "data": {
      "text/plain": [
       "356"
      ]
     },
     "execution_count": 49,
     "metadata": {},
     "output_type": "execute_result"
    }
   ],
   "source": [
    "len(df_inventory['Item Number'].unique())"
   ]
  },
  {
   "cell_type": "markdown",
   "metadata": {},
   "source": [
    "## New Inventory.xlsx"
   ]
  },
  {
   "cell_type": "code",
   "execution_count": 50,
   "metadata": {},
   "outputs": [
    {
     "name": "stdout",
     "output_type": "stream",
     "text": [
      "The New inventory dataset contains 1039 rows and 3 columns.\n"
     ]
    }
   ],
   "source": [
    "print(\"The New inventory dataset contains {} rows and {} columns.\".format(df_new_arrivals.shape[0],df_new_arrivals.shape[1]))"
   ]
  },
  {
   "cell_type": "code",
   "execution_count": 51,
   "metadata": {},
   "outputs": [
    {
     "data": {
      "text/plain": [
       "213"
      ]
     },
     "execution_count": 51,
     "metadata": {},
     "output_type": "execute_result"
    }
   ],
   "source": [
    "len(df_new_arrivals['Item Number'].unique())"
   ]
  },
  {
   "cell_type": "code",
   "execution_count": 52,
   "metadata": {},
   "outputs": [
    {
     "data": {
      "text/plain": [
       "23"
      ]
     },
     "execution_count": 52,
     "metadata": {},
     "output_type": "execute_result"
    }
   ],
   "source": [
    "len(df_new_arrivals['Inventory Receive'].unique())"
   ]
  },
  {
   "cell_type": "markdown",
   "metadata": {},
   "source": [
    "The inventory data set contains 356 unique item numbers and the number of items in that inventory. The new inventory dataset contains 1,039 rows of numbers <br> \n",
    "showing how many new items were added to inventory and when they arrived. The new inventory dataset contains 213 unique items, which means that out of 356 items,<br>\n",
    "only 213 items were received on 23 different unique dates."
   ]
  },
  {
   "cell_type": "code",
   "execution_count": 53,
   "metadata": {},
   "outputs": [],
   "source": [
    "df_new_arrivals['Inventory Receive']=df_new_arrivals['Inventory Receive'].dt.strftime('%d/%m/%Y')\n",
    "df_inventory['Date']=df_inventory['Date'].dt.strftime('%d/%m/%Y')\n",
    "#df_inventory=df_inventory.sort_values(by=['Inventory Receive'],)"
   ]
  },
  {
   "cell_type": "markdown",
   "metadata": {},
   "source": [
    "## Merging both files"
   ]
  },
  {
   "cell_type": "code",
   "execution_count": 54,
   "metadata": {},
   "outputs": [],
   "source": [
    "df_merged = pd.merge(df_inventory, df_new_arrivals, on='Item Number', how='outer')\n",
    "df_merged=df_merged.sort_values(by=['Inventory Receive'],ascending=False)"
   ]
  },
  {
   "cell_type": "code",
   "execution_count": 55,
   "metadata": {},
   "outputs": [],
   "source": [
    "#df_merged['Inventory Receive']=df_merged['Inventory Receive'].dt.strftime('%d/%m/%Y')\n",
    "#df_merged['Date']=df_merged['Date'].dt.strftime('%d/%m/%Y')"
   ]
  },
  {
   "cell_type": "code",
   "execution_count": 56,
   "metadata": {},
   "outputs": [],
   "source": [
    "pivot_table = df_merged.pivot_table(values='Total Item Qty', \n",
    "                             index='Item Number', \n",
    "                             columns='Inventory Receive', \n",
    "                             aggfunc='sum', \n",
    "                             fill_value=0)\n"
   ]
  },
  {
   "cell_type": "code",
   "execution_count": 57,
   "metadata": {},
   "outputs": [
    {
     "name": "stderr",
     "output_type": "stream",
     "text": [
      "C:\\Users\\prabh\\AppData\\Local\\Temp\\ipykernel_17500\\4281683759.py:4: FutureWarning: Calling int on a single element Series is deprecated and will raise a TypeError in the future. Use int(ser.iloc[0]) instead\n",
      "  on_stock=int(on_stock)\n"
     ]
    }
   ],
   "source": [
    "\n",
    "for item_num,row in pivot_table.iterrows():\n",
    "    try:\n",
    "        on_stock = df_inventory[df_inventory['Item Number'] == item_num]['Inventory']\n",
    "        on_stock=int(on_stock)\n",
    "    except:\n",
    "        on_stock=0\n",
    "\n",
    "    for k in pivot_table.columns:\n",
    "        on_stock=on_stock+row[k]\n",
    "        row[k]=on_stock\n",
    "        \n",
    "    "
   ]
  },
  {
   "cell_type": "code",
   "execution_count": 59,
   "metadata": {},
   "outputs": [
    {
     "data": {
      "text/plain": [
       "array(['07/07/2023', '09/07/2023', '21/07/2023', '16/08/2023',\n",
       "       '13/10/2023', '10/07/2023', '04/08/2023', '08/09/2023',\n",
       "       '25/08/2023', '29/09/2023', '24/09/2023', '14/07/2023',\n",
       "       '01/12/2023', '22/08/2023', '28/07/2023', '18/08/2023',\n",
       "       '08/10/2023', '22/10/2023', '15/12/2023', '08/12/2023',\n",
       "       '26/11/2023', '15/09/2023', '22/09/2023'], dtype=object)"
      ]
     },
     "execution_count": 59,
     "metadata": {},
     "output_type": "execute_result"
    }
   ],
   "source": [
    "df_new_arrivals['Inventory Receive'].unique()"
   ]
  },
  {
   "cell_type": "code",
   "execution_count": 58,
   "metadata": {},
   "outputs": [
    {
     "data": {
      "text/html": [
       "<div>\n",
       "<style scoped>\n",
       "    .dataframe tbody tr th:only-of-type {\n",
       "        vertical-align: middle;\n",
       "    }\n",
       "\n",
       "    .dataframe tbody tr th {\n",
       "        vertical-align: top;\n",
       "    }\n",
       "\n",
       "    .dataframe thead th {\n",
       "        text-align: right;\n",
       "    }\n",
       "</style>\n",
       "<table border=\"1\" class=\"dataframe\">\n",
       "  <thead>\n",
       "    <tr style=\"text-align: right;\">\n",
       "      <th></th>\n",
       "      <th>Inventory Receive</th>\n",
       "      <th>Total Item Qty</th>\n",
       "    </tr>\n",
       "    <tr>\n",
       "      <th>Item Number</th>\n",
       "      <th></th>\n",
       "      <th></th>\n",
       "    </tr>\n",
       "  </thead>\n",
       "  <tbody>\n",
       "    <tr>\n",
       "      <th>064-01-0003</th>\n",
       "      <td>13/10/202329/09/2023</td>\n",
       "      <td>7352</td>\n",
       "    </tr>\n",
       "    <tr>\n",
       "      <th>064-01-0005</th>\n",
       "      <td>13/10/202329/09/2023</td>\n",
       "      <td>9900</td>\n",
       "    </tr>\n",
       "    <tr>\n",
       "      <th>064-01-0012</th>\n",
       "      <td>13/10/202329/09/2023</td>\n",
       "      <td>10084</td>\n",
       "    </tr>\n",
       "    <tr>\n",
       "      <th>064-01-0013</th>\n",
       "      <td>13/10/202329/09/2023</td>\n",
       "      <td>8048</td>\n",
       "    </tr>\n",
       "    <tr>\n",
       "      <th>064-01-0016</th>\n",
       "      <td>13/10/202329/09/2023</td>\n",
       "      <td>7636</td>\n",
       "    </tr>\n",
       "    <tr>\n",
       "      <th>...</th>\n",
       "      <td>...</td>\n",
       "      <td>...</td>\n",
       "    </tr>\n",
       "    <tr>\n",
       "      <th>064-18-9182</th>\n",
       "      <td>16/08/202313/10/202329/09/202309/07/202304/08/...</td>\n",
       "      <td>34884</td>\n",
       "    </tr>\n",
       "    <tr>\n",
       "      <th>064-18-9667</th>\n",
       "      <td>13/10/202329/09/2023</td>\n",
       "      <td>1984</td>\n",
       "    </tr>\n",
       "    <tr>\n",
       "      <th>064-18-9724</th>\n",
       "      <td>21/07/202313/10/202329/09/202309/07/202304/08/...</td>\n",
       "      <td>11316</td>\n",
       "    </tr>\n",
       "    <tr>\n",
       "      <th>064-18-9904</th>\n",
       "      <td>01/12/202315/12/2023</td>\n",
       "      <td>23800</td>\n",
       "    </tr>\n",
       "    <tr>\n",
       "      <th>064-18-9938</th>\n",
       "      <td>16/08/202313/10/202329/09/202309/07/202304/08/...</td>\n",
       "      <td>15448</td>\n",
       "    </tr>\n",
       "  </tbody>\n",
       "</table>\n",
       "<p>213 rows × 2 columns</p>\n",
       "</div>"
      ],
      "text/plain": [
       "                                             Inventory Receive  Total Item Qty\n",
       "Item Number                                                                   \n",
       "064-01-0003                               13/10/202329/09/2023            7352\n",
       "064-01-0005                               13/10/202329/09/2023            9900\n",
       "064-01-0012                               13/10/202329/09/2023           10084\n",
       "064-01-0013                               13/10/202329/09/2023            8048\n",
       "064-01-0016                               13/10/202329/09/2023            7636\n",
       "...                                                        ...             ...\n",
       "064-18-9182  16/08/202313/10/202329/09/202309/07/202304/08/...           34884\n",
       "064-18-9667                               13/10/202329/09/2023            1984\n",
       "064-18-9724  21/07/202313/10/202329/09/202309/07/202304/08/...           11316\n",
       "064-18-9904                               01/12/202315/12/2023           23800\n",
       "064-18-9938  16/08/202313/10/202329/09/202309/07/202304/08/...           15448\n",
       "\n",
       "[213 rows x 2 columns]"
      ]
     },
     "execution_count": 58,
     "metadata": {},
     "output_type": "execute_result"
    }
   ],
   "source": [
    "df_new_arrivals.groupby('Item Number').sum()"
   ]
  }
 ],
 "metadata": {
  "kernelspec": {
   "display_name": "Python 3",
   "language": "python",
   "name": "python3"
  },
  "language_info": {
   "codemirror_mode": {
    "name": "ipython",
    "version": 3
   },
   "file_extension": ".py",
   "mimetype": "text/x-python",
   "name": "python",
   "nbconvert_exporter": "python",
   "pygments_lexer": "ipython3",
   "version": "3.11.6"
  }
 },
 "nbformat": 4,
 "nbformat_minor": 2
}
